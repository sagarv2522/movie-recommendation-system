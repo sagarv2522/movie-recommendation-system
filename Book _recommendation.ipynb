{
 "cells": [
  {
   "cell_type": "markdown",
   "id": "29565dbd-6a51-4d37-a57d-d14452c03204",
   "metadata": {},
   "source": [
    "# **Book Recommendation Sysytem 📚**"
   ]
  },
  {
   "cell_type": "markdown",
   "id": "c26d7be7-4c40-4d5d-9f04-9d30c6f54f0c",
   "metadata": {},
   "source": [
    "## Loading..."
   ]
  },
  {
   "cell_type": "code",
   "execution_count": 103,
   "id": "8e8c94f1-e388-4430-bda5-9a30ed6c291a",
   "metadata": {},
   "outputs": [],
   "source": [
    "#packages\n",
    "\n",
    "import numpy as np\n",
    "import pandas as pd\n",
    "import re\n",
    "import logging\n",
    "\n",
    "from sklearn.feature_extraction.text import TfidfVectorizer\n",
    "from sklearn.metrics.pairwise import cosine_similarity\n",
    "\n",
    "import ipywidgets as widgets\n",
    "from IPython.display import display"
   ]
  },
  {
   "cell_type": "code",
   "execution_count": 104,
   "id": "087abe32-9a9c-4b18-9381-c908f9a5e6d4",
   "metadata": {},
   "outputs": [
    {
     "data": {
      "text/html": [
       "<div>\n",
       "<style scoped>\n",
       "    .dataframe tbody tr th:only-of-type {\n",
       "        vertical-align: middle;\n",
       "    }\n",
       "\n",
       "    .dataframe tbody tr th {\n",
       "        vertical-align: top;\n",
       "    }\n",
       "\n",
       "    .dataframe thead th {\n",
       "        text-align: right;\n",
       "    }\n",
       "</style>\n",
       "<table border=\"1\" class=\"dataframe\">\n",
       "  <thead>\n",
       "    <tr style=\"text-align: right;\">\n",
       "      <th></th>\n",
       "      <th>movieId</th>\n",
       "      <th>title</th>\n",
       "      <th>genres</th>\n",
       "    </tr>\n",
       "  </thead>\n",
       "  <tbody>\n",
       "    <tr>\n",
       "      <th>0</th>\n",
       "      <td>1</td>\n",
       "      <td>Toy Story (1995)</td>\n",
       "      <td>Adventure|Animation|Children|Comedy|Fantasy</td>\n",
       "    </tr>\n",
       "    <tr>\n",
       "      <th>1</th>\n",
       "      <td>2</td>\n",
       "      <td>Jumanji (1995)</td>\n",
       "      <td>Adventure|Children|Fantasy</td>\n",
       "    </tr>\n",
       "    <tr>\n",
       "      <th>2</th>\n",
       "      <td>3</td>\n",
       "      <td>Grumpier Old Men (1995)</td>\n",
       "      <td>Comedy|Romance</td>\n",
       "    </tr>\n",
       "    <tr>\n",
       "      <th>3</th>\n",
       "      <td>4</td>\n",
       "      <td>Waiting to Exhale (1995)</td>\n",
       "      <td>Comedy|Drama|Romance</td>\n",
       "    </tr>\n",
       "    <tr>\n",
       "      <th>4</th>\n",
       "      <td>5</td>\n",
       "      <td>Father of the Bride Part II (1995)</td>\n",
       "      <td>Comedy</td>\n",
       "    </tr>\n",
       "    <tr>\n",
       "      <th>...</th>\n",
       "      <td>...</td>\n",
       "      <td>...</td>\n",
       "      <td>...</td>\n",
       "    </tr>\n",
       "    <tr>\n",
       "      <th>62418</th>\n",
       "      <td>209157</td>\n",
       "      <td>We (2018)</td>\n",
       "      <td>Drama</td>\n",
       "    </tr>\n",
       "    <tr>\n",
       "      <th>62419</th>\n",
       "      <td>209159</td>\n",
       "      <td>Window of the Soul (2001)</td>\n",
       "      <td>Documentary</td>\n",
       "    </tr>\n",
       "    <tr>\n",
       "      <th>62420</th>\n",
       "      <td>209163</td>\n",
       "      <td>Bad Poems (2018)</td>\n",
       "      <td>Comedy|Drama</td>\n",
       "    </tr>\n",
       "    <tr>\n",
       "      <th>62421</th>\n",
       "      <td>209169</td>\n",
       "      <td>A Girl Thing (2001)</td>\n",
       "      <td>(no genres listed)</td>\n",
       "    </tr>\n",
       "    <tr>\n",
       "      <th>62422</th>\n",
       "      <td>209171</td>\n",
       "      <td>Women of Devil's Island (1962)</td>\n",
       "      <td>Action|Adventure|Drama</td>\n",
       "    </tr>\n",
       "  </tbody>\n",
       "</table>\n",
       "<p>62423 rows × 3 columns</p>\n",
       "</div>"
      ],
      "text/plain": [
       "       movieId                               title  \\\n",
       "0            1                    Toy Story (1995)   \n",
       "1            2                      Jumanji (1995)   \n",
       "2            3             Grumpier Old Men (1995)   \n",
       "3            4            Waiting to Exhale (1995)   \n",
       "4            5  Father of the Bride Part II (1995)   \n",
       "...        ...                                 ...   \n",
       "62418   209157                           We (2018)   \n",
       "62419   209159           Window of the Soul (2001)   \n",
       "62420   209163                    Bad Poems (2018)   \n",
       "62421   209169                 A Girl Thing (2001)   \n",
       "62422   209171      Women of Devil's Island (1962)   \n",
       "\n",
       "                                            genres  \n",
       "0      Adventure|Animation|Children|Comedy|Fantasy  \n",
       "1                       Adventure|Children|Fantasy  \n",
       "2                                   Comedy|Romance  \n",
       "3                             Comedy|Drama|Romance  \n",
       "4                                           Comedy  \n",
       "...                                            ...  \n",
       "62418                                        Drama  \n",
       "62419                                  Documentary  \n",
       "62420                                 Comedy|Drama  \n",
       "62421                           (no genres listed)  \n",
       "62422                       Action|Adventure|Drama  \n",
       "\n",
       "[62423 rows x 3 columns]"
      ]
     },
     "execution_count": 104,
     "metadata": {},
     "output_type": "execute_result"
    }
   ],
   "source": [
    "movies = pd.read_csv('movies.csv')\n",
    "movies"
   ]
  },
  {
   "cell_type": "markdown",
   "id": "80a187d1-66c7-4fde-b888-7fa990e612b1",
   "metadata": {},
   "source": [
    "## **Building Search Engine🚂**"
   ]
  },
  {
   "cell_type": "markdown",
   "id": "34132504-9869-4b14-8962-fffc19d26619",
   "metadata": {},
   "source": [
    "### Cleaning the movie title"
   ]
  },
  {
   "cell_type": "code",
   "execution_count": 105,
   "id": "1fc7ee72-ef16-44a2-b68f-a82876252adc",
   "metadata": {},
   "outputs": [],
   "source": [
    "def clean_text(title:str):\n",
    "    '''\n",
    "    It cleans a text for system.\n",
    "    Args: title-str\n",
    "    Return: cleaned-str\n",
    "    '''\n",
    "    try:\n",
    "        cleaned = re.sub(\"[^a-zA-Z0-9 ]\", \"\", title)\n",
    "        return cleaned\n",
    "    except Exception as e:\n",
    "        logging.error(e)"
   ]
  },
  {
   "cell_type": "code",
   "execution_count": 106,
   "id": "b1dfc620-ce95-4abc-9c0b-a10cb3e4f20d",
   "metadata": {},
   "outputs": [],
   "source": [
    "movies['cleaned_title'] = movies['title'].apply(clean_text)"
   ]
  },
  {
   "cell_type": "markdown",
   "id": "95e8a4d5-de3a-41c5-b3f0-d1cae31b2f50",
   "metadata": {},
   "source": [
    "### Creating a TF-IDF Matrix"
   ]
  },
  {
   "cell_type": "code",
   "execution_count": 107,
   "id": "54fdb3d0-b5bf-4833-aedf-57f065701800",
   "metadata": {},
   "outputs": [],
   "source": [
    "#inilizing our transformer\n",
    "transformer = TfidfVectorizer(ngram_range=(1,2))\n",
    "\n",
    "#fit and transform the title\n",
    "tfidf = transformer.fit_transform(movies['cleaned_title'])"
   ]
  },
  {
   "cell_type": "markdown",
   "id": "9bb0173c-056e-4c9d-a02d-eff0d7baaa97",
   "metadata": {},
   "source": [
    "### Creating a Search Function"
   ]
  },
  {
   "cell_type": "code",
   "execution_count": 108,
   "id": "612aa13e-efb2-4008-8033-152fb136a077",
   "metadata": {},
   "outputs": [],
   "source": [
    "def search(title:str):\n",
    "    '''Take title with clean structer and transform into a vectors'''\n",
    "    title = clean_text(title)\n",
    "    vector = transformer.transform([title])\n",
    "    similarity= cosine_similarity(vector, tfidf).flatten()\n",
    "    indices = np.argpartition(similarity, -5)[-5:]\n",
    "    results = movies.iloc[indices][::-1]\n",
    "    return results"
   ]
  },
  {
   "cell_type": "code",
   "execution_count": 113,
   "id": "28ed4685-c111-40fa-9d51-a5eb62a424f7",
   "metadata": {},
   "outputs": [
    {
     "data": {
      "application/vnd.jupyter.widget-view+json": {
       "model_id": "d9abf798eb1b434aa56a0ab67acb0e39",
       "version_major": 2,
       "version_minor": 0
      },
      "text/plain": [
       "Text(value='It returns a similar Movie', description='Movie Title')"
      ]
     },
     "metadata": {},
     "output_type": "display_data"
    },
    {
     "data": {
      "application/vnd.jupyter.widget-view+json": {
       "model_id": "2078ebf6ad0f417cba68194b14b40d6b",
       "version_major": 2,
       "version_minor": 0
      },
      "text/plain": [
       "Output()"
      ]
     },
     "metadata": {},
     "output_type": "display_data"
    }
   ],
   "source": [
    "# movie matchs the same text\n",
    "movie_input = widgets.Text(\n",
    "    value = 'It returns a similar Movie',\n",
    "    description = 'Movie Title')\n",
    "\n",
    "movie_list = widgets.Output()\n",
    "\n",
    "def on_type(data):\n",
    "    with movie_list:\n",
    "        movie_list.clear_output()\n",
    "        title=data[\"new\"]\n",
    "        if len(title) > 5:\n",
    "            display(search(title))\n",
    "            \n",
    "movie_input.observe(on_type, names='value')\n",
    "display(movie_input, movie_list)"
   ]
  },
  {
   "cell_type": "markdown",
   "id": "4e541a36-4988-4368-86cc-e34790d30af3",
   "metadata": {},
   "source": [
    "### Creating Recommendation Function"
   ]
  },
  {
   "cell_type": "code",
   "execution_count": 110,
   "id": "199604f6-6302-4b07-bfee-10a94bfdab4e",
   "metadata": {},
   "outputs": [
    {
     "data": {
      "text/html": [
       "<div>\n",
       "<style scoped>\n",
       "    .dataframe tbody tr th:only-of-type {\n",
       "        vertical-align: middle;\n",
       "    }\n",
       "\n",
       "    .dataframe tbody tr th {\n",
       "        vertical-align: top;\n",
       "    }\n",
       "\n",
       "    .dataframe thead th {\n",
       "        text-align: right;\n",
       "    }\n",
       "</style>\n",
       "<table border=\"1\" class=\"dataframe\">\n",
       "  <thead>\n",
       "    <tr style=\"text-align: right;\">\n",
       "      <th></th>\n",
       "      <th>userId</th>\n",
       "      <th>movieId</th>\n",
       "      <th>rating</th>\n",
       "      <th>timestamp</th>\n",
       "    </tr>\n",
       "  </thead>\n",
       "  <tbody>\n",
       "    <tr>\n",
       "      <th>0</th>\n",
       "      <td>1</td>\n",
       "      <td>296</td>\n",
       "      <td>5.0</td>\n",
       "      <td>1147880044</td>\n",
       "    </tr>\n",
       "    <tr>\n",
       "      <th>1</th>\n",
       "      <td>1</td>\n",
       "      <td>306</td>\n",
       "      <td>3.5</td>\n",
       "      <td>1147868817</td>\n",
       "    </tr>\n",
       "    <tr>\n",
       "      <th>2</th>\n",
       "      <td>1</td>\n",
       "      <td>307</td>\n",
       "      <td>5.0</td>\n",
       "      <td>1147868828</td>\n",
       "    </tr>\n",
       "    <tr>\n",
       "      <th>3</th>\n",
       "      <td>1</td>\n",
       "      <td>665</td>\n",
       "      <td>5.0</td>\n",
       "      <td>1147878820</td>\n",
       "    </tr>\n",
       "    <tr>\n",
       "      <th>4</th>\n",
       "      <td>1</td>\n",
       "      <td>899</td>\n",
       "      <td>3.5</td>\n",
       "      <td>1147868510</td>\n",
       "    </tr>\n",
       "  </tbody>\n",
       "</table>\n",
       "</div>"
      ],
      "text/plain": [
       "   userId  movieId  rating   timestamp\n",
       "0       1      296     5.0  1147880044\n",
       "1       1      306     3.5  1147868817\n",
       "2       1      307     5.0  1147868828\n",
       "3       1      665     5.0  1147878820\n",
       "4       1      899     3.5  1147868510"
      ]
     },
     "execution_count": 110,
     "metadata": {},
     "output_type": "execute_result"
    }
   ],
   "source": [
    "rating = pd.read_csv('ratings.csv')\n",
    "rating.head()"
   ]
  },
  {
   "cell_type": "code",
   "execution_count": 115,
   "id": "7cc04f3c-270e-4ebb-9b11-83adb4e280fc",
   "metadata": {},
   "outputs": [],
   "source": [
    "def find_similar_user(movieid):\n",
    "    '''It gets a movieid and search for a similar user,\n",
    "        then compare them with all users. Atlast merges both and calculate the recommendation score\n",
    "        Args: movieid - int\n",
    "        Return: output- pd.dataframe'''\n",
    "    #comparing with similar user\n",
    "    similar_user = rating[(rating['movieId'] == movieid) & (rating['rating'] > 4)]['userId'].unique()\n",
    "    similar_recs = rating[(rating['userId'].isin(similar_user)) & (rating['rating'] > 4)]['movieId']\n",
    "    similar_recs = similar_recs.value_counts() / len(similar_user)\n",
    "    similar_recs = similar_recs[similar_recs > .10]\n",
    "    \n",
    "    #compare with all users\n",
    "    all_user = rating[(rating['movieId'].isin(similar_recs.index)) & (rating['rating'] > 4)]\n",
    "    all_user_recs = all_user['movieId'].value_counts() / len(all_user['userId'].unique())\n",
    "    \n",
    "    #calculating recommendation score\n",
    "    rec_percent = pd.concat([similar_recs, all_user_recs], axis=1)\n",
    "    rec_percent.columns = ['similar','all']\n",
    "    rec_percent['score'] = (rec_percent['similar'] / rec_percent['all'])\n",
    "    rec_percent= rec_percent.sort_values('score',ascending=False)\n",
    "    output = rec_percent.head(10).merge(movies, left_index=True, right_on='movieId') [['score','title','genres']]\n",
    "    return output"
   ]
  },
  {
   "cell_type": "code",
   "execution_count": 116,
   "id": "04df538c-0221-4266-8156-6711e10b8886",
   "metadata": {},
   "outputs": [
    {
     "data": {
      "application/vnd.jupyter.widget-view+json": {
       "model_id": "cc6db3e51425474685120ff907bbf474",
       "version_major": 2,
       "version_minor": 0
      },
      "text/plain": [
       "Text(value='Ironman', description='Movie Title:')"
      ]
     },
     "metadata": {},
     "output_type": "display_data"
    },
    {
     "data": {
      "application/vnd.jupyter.widget-view+json": {
       "model_id": "fabe7e60f8064280a9d491539ac26006",
       "version_major": 2,
       "version_minor": 0
      },
      "text/plain": [
       "Output()"
      ]
     },
     "metadata": {},
     "output_type": "display_data"
    }
   ],
   "source": [
    "movie_input_name = widgets.Text( value = 'Ironman', description='Movie Title:', disabled=False)\n",
    "\n",
    "recommendation = widgets.Output()\n",
    "\n",
    "def on_type(data):\n",
    "    with recommendation:\n",
    "        recommendation.clear_output()\n",
    "        title = data[\"new\"]\n",
    "        if len(title) > 5:\n",
    "            result = search(title)\n",
    "            movieid = result.iloc[0]['movieId']\n",
    "            display(find_similar_user(movieid))\n",
    "            \n",
    "            \n",
    "movie_input_name.observe(on_type, names='value')\n",
    "            \n",
    "display(movie_input_name, recommendation)"
   ]
  }
 ],
 "metadata": {
  "kernelspec": {
   "display_name": "Python 3 (ipykernel)",
   "language": "python",
   "name": "python3"
  },
  "language_info": {
   "codemirror_mode": {
    "name": "ipython",
    "version": 3
   },
   "file_extension": ".py",
   "mimetype": "text/x-python",
   "name": "python",
   "nbconvert_exporter": "python",
   "pygments_lexer": "ipython3",
   "version": "3.9.13"
  }
 },
 "nbformat": 4,
 "nbformat_minor": 5
}
